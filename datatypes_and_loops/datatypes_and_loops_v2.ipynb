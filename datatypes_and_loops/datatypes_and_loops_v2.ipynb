{
 "cells": [
  {
   "cell_type": "code",
   "execution_count": 26,
   "metadata": {},
   "outputs": [
    {
     "name": "stdout",
     "output_type": "stream",
     "text": [
      "Результат: {98, 35, 15, 213, 54, 119}\n"
     ]
    }
   ],
   "source": [
    "# Задание №1\n",
    "\n",
    "ids = {'user1': [213, 213, 213, 15, 213], \n",
    "       'user2': [54, 54, 119, 119, 119], \n",
    "       'user3': [213, 98, 98, 35]}\n",
    "\n",
    "sum_ids = set(ids['user1'] + ids['user2'] + ids['user3'])\n",
    "print('Результат:',sum_ids)"
   ]
  },
  {
   "cell_type": "code",
   "execution_count": 31,
   "metadata": {},
   "outputs": [
    {
     "name": "stdout",
     "output_type": "stream",
     "text": [
      "Результат:\n",
      "Поисковых запросов, содержащих 2 слов(а): 42.9\n",
      "Поисковых запросов, содержащих 2 слов(а): 57.1\n"
     ]
    }
   ],
   "source": [
    "# Задание №2\n",
    "\n",
    "queries = [\n",
    "    'смотреть сериалы онлайн',\n",
    "    'новости спорта',\n",
    "    'афиша кино',\n",
    "    'курс доллара',\n",
    "    'сериалы этим летом',\n",
    "    'курс по питону',\n",
    "    'сериалы про спорт',\n",
    "]\n",
    "\n",
    "split_queries = [please.split(' ') for please in queries]\n",
    "\n",
    "words_in_line = []\n",
    "only_2_words = []\n",
    "only_3_words = []\n",
    "\n",
    "for item in split_queries:\n",
    "    if len(item) > 0:\n",
    "        words_in_line.append(1)\n",
    "    if len(item) == 2:\n",
    "        only_2_words.append(1)\n",
    "    elif len(item) == 3:\n",
    "        only_3_words.append(1)\n",
    "\n",
    "print('Результат:')\n",
    "\n",
    "print('Поисковых запросов, содержащих 2 слов(а):', round (len(only_2_words) / len(words_in_line) * 100, 1))\n",
    "print('Поисковых запросов, содержащих 2 слов(а):', round (len(only_3_words) / len(words_in_line) * 100, 1))"
   ]
  },
  {
   "cell_type": "code",
   "execution_count": 90,
   "metadata": {},
   "outputs": [
    {
     "name": "stdout",
     "output_type": "stream",
     "text": [
      "Результат:\n"
     ]
    },
    {
     "data": {
      "text/plain": [
       "{'vk': {'revenue': 103, 'cost': 98, 'ROI': 5.1},\n",
       " 'yandex': {'revenue': 179, 'cost': 153, 'ROI': 17.0},\n",
       " 'facebook': {'revenue': 103, 'cost': 110, 'ROI': -6.4},\n",
       " 'adwords': {'revenue': 35, 'cost': 34, 'ROI': 2.9},\n",
       " 'twitter': {'revenue': 11, 'cost': 24, 'ROI': -54.2}}"
      ]
     },
     "execution_count": 90,
     "metadata": {},
     "output_type": "execute_result"
    }
   ],
   "source": [
    "# Задание №3\n",
    "\n",
    "results = {\n",
    "'vk': {'revenue': 103, 'cost': 98},\n",
    "'yandex': {'revenue': 179, 'cost': 153},\n",
    "'facebook': {'revenue': 103, 'cost': 110},\n",
    "'adwords': {'revenue': 35, 'cost': 34},\n",
    "'twitter': {'revenue': 11, 'cost': 24},\n",
    "}\n",
    "\n",
    "for sourсe, info in results.items():\n",
    "    info['ROI'] = round((info['revenue'] / info['cost'] - 1) * 100, 1)\n",
    "\n",
    "print('Результат:')\n",
    "results"
   ]
  },
  {
   "cell_type": "code",
   "execution_count": 109,
   "metadata": {},
   "outputs": [
    {
     "name": "stdout",
     "output_type": "stream",
     "text": [
      "Результат: Максимальный объем продаж на рекламном канале: vk\n"
     ]
    }
   ],
   "source": [
    "stats = {'facebook': 55, 'yandex': 115, 'vk': 120, 'google': 99, 'email': 42, 'ok': 98}\n",
    "max_value = 0\n",
    "for source, value in stats.items():\n",
    "    if value > max_value:\n",
    "        max_value = value\n",
    "        max_source = source\n",
    "    \n",
    "print('Результат: Максимальный объем продаж на рекламном канале:', max_source)   "
   ]
  }
 ],
 "metadata": {
  "kernelspec": {
   "display_name": "Python 3",
   "language": "python",
   "name": "python3"
  },
  "language_info": {
   "codemirror_mode": {
    "name": "ipython",
    "version": 3
   },
   "file_extension": ".py",
   "mimetype": "text/x-python",
   "name": "python",
   "nbconvert_exporter": "python",
   "pygments_lexer": "ipython3",
   "version": "3.8.5"
  }
 },
 "nbformat": 4,
 "nbformat_minor": 4
}
