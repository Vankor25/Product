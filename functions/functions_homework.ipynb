{
 "cells": [
  {
   "cell_type": "code",
   "execution_count": null,
   "metadata": {},
   "outputs": [],
   "source": [
    "# Введите команду! \n",
    "def request_detector():\n",
    "    request = ''\n",
    "    while request != 'q': # Выйти из программы\n",
    "        request = input('Введите команду:')\n",
    "        if request == 'p': # Узнать владельца документа по номеру\n",
    "            return owner()\n",
    "        elif request == 's': # Узнать полку хранения по номеру\n",
    "            return doc_storage()\n",
    "        elif request == 'l': # Увидеть полную информацию по всем документам\n",
    "            return all_inform()\n",
    "        elif request == 'ads': # Добавить новую папку\n",
    "            return new_add()\n",
    "        elif request == 'ds': # Удалить папку\n",
    "            return dell()\n",
    "            \n",
    "\n",
    "request_detector()"
   ]
  },
  {
   "cell_type": "code",
   "execution_count": 20,
   "metadata": {},
   "outputs": [],
   "source": [
    "# Перечень всех документов\n",
    "documents = [\n",
    " {'type': 'passport', 'number': '2207 876234', 'name': 'Василий Гупкин'},\n",
    " {'type': 'invoice', 'number': '11-2', 'name': 'Геннадий Покемонов'},\n",
    " {'type': 'insurance', 'number': '10006', 'name': 'Аристарх Павлов'}\n",
    "]\n",
    "\n",
    "# Перечень полок, на которых хранятся документы (если документ есть в documents, то он обязательно должен быть и в directories)\n",
    "directories = {\n",
    " '1': ['2207 876234', '11-2'],\n",
    " '2': ['10006'],\n",
    " '3': []\n",
    "}"
   ]
  },
  {
   "cell_type": "code",
   "execution_count": 36,
   "metadata": {
    "scrolled": false
   },
   "outputs": [
    {
     "name": "stdout",
     "output_type": "stream",
     "text": [
      "Введите номер документа: 10006\n",
      "Владелец документа:  Аристарх Павлов\n"
     ]
    }
   ],
   "source": [
    "def owner():\n",
    "    doc_number = input('Введите номер документа: ')\n",
    "    for i in documents:\n",
    "        if doc_number == i['number']:\n",
    "            print('Владелец документа: ', i['name'])\n",
    "    if doc_number != i['number']:\n",
    "        print('Документ не найден в базе')\n",
    "owner()"
   ]
  },
  {
   "cell_type": "code",
   "execution_count": 61,
   "metadata": {
    "scrolled": false
   },
   "outputs": [
    {
     "name": "stdout",
     "output_type": "stream",
     "text": [
      "Введите номер документа:10006\n",
      "Документ хранится на полке:  2\n"
     ]
    }
   ],
   "source": [
    "def doc_storage():\n",
    "    doc_number = input('Введите номер документа:')\n",
    "    a = 0\n",
    "    for x in directories:\n",
    "        if doc_number in directories[x]:\n",
    "            print('Документ хранится на полке: ', x)\n",
    "            a += int(x)\n",
    "    if a == 0:\n",
    "        print('Документ не найден в базе')\n",
    "\n",
    "doc_storage()"
   ]
  },
  {
   "cell_type": "code",
   "execution_count": null,
   "metadata": {
    "scrolled": true
   },
   "outputs": [],
   "source": [
    "def all_inform():\n",
    "    for x in documents:\n",
    "        number = x['number']\n",
    "        my_type = x['type']\n",
    "        name = x['name']\n",
    "        print('№:', number, ',', 'тип:', my_type, ',', 'владелец:', name, ',', end='')\n",
    "        for y in directories:\n",
    "            if number in directories[y]:\n",
    "                a = y\n",
    "                print(a)\n",
    "\n",
    "all_inform()"
   ]
  },
  {
   "cell_type": "code",
   "execution_count": 16,
   "metadata": {},
   "outputs": [
    {
     "name": "stdout",
     "output_type": "stream",
     "text": [
      "Введите номер полки:13\n",
      "Такая полка уже существует\n"
     ]
    }
   ],
   "source": [
    "def new_add():\n",
    "    new_doc = input('Введите номер полки:')\n",
    "    directories[new_doc] = []\n",
    "    if new_doc not in list(directories):\n",
    "        print('Полка добавлена.', 'Текущий перечень полок:', list(directories))\n",
    "    elif new_doc in list(directories):\n",
    "        print('Такая полка уже существует')\n",
    "new_add()"
   ]
  },
  {
   "cell_type": "code",
   "execution_count": 30,
   "metadata": {},
   "outputs": [
    {
     "name": "stdout",
     "output_type": "stream",
     "text": [
      "Введите номер полки:\n",
      "Такой полки не существует. Текущий перечень полок: ['1', '2', '3']\n"
     ]
    }
   ],
   "source": [
    "def dell():\n",
    "    del_table = input('Введите номер полки:')\n",
    "    if del_table not in directories:\n",
    "        print('Такой полки не существует. Текущий перечень полок:', list(directories))\n",
    "    elif directories[del_table] == []:\n",
    "        del(directories[del_table])\n",
    "        print('Полка удалена. Текущий перечень полок:', list(directories))\n",
    "    elif directories[del_table] != []:\n",
    "        print('На полке есть документа, удалите их перед удалением полки. Текущий перечень полок:', list(directories))\n",
    "dell()"
   ]
  }
 ],
 "metadata": {
  "kernelspec": {
   "display_name": "Python 3",
   "language": "python",
   "name": "python3"
  },
  "language_info": {
   "codemirror_mode": {
    "name": "ipython",
    "version": 3
   },
   "file_extension": ".py",
   "mimetype": "text/x-python",
   "name": "python",
   "nbconvert_exporter": "python",
   "pygments_lexer": "ipython3",
   "version": "3.8.5"
  }
 },
 "nbformat": 4,
 "nbformat_minor": 4
}
