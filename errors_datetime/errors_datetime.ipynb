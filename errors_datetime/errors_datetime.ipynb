{
 "cells": [
  {
   "cell_type": "code",
   "execution_count": 2,
   "metadata": {},
   "outputs": [],
   "source": [
    "from datetime import datetime\n",
    "from datetime import timedelta"
   ]
  },
  {
   "cell_type": "code",
   "execution_count": 30,
   "metadata": {},
   "outputs": [
    {
     "name": "stdout",
     "output_type": "stream",
     "text": [
      "2002-10-02 00:00:00\n",
      "2013-11-10 00:00:00\n",
      "1977-08-18 00:00:00\n"
     ]
    }
   ],
   "source": [
    "# Задание №1\n",
    "The_Moscow_Times = datetime.strptime('Wednesday, October 2, 2002', '%A, %B %d, %Y')\n",
    "The_Guardian = datetime.strptime('Friday, 11.10.13', '%A, %m.%d.%y')\n",
    "Daily_News = datetime.strptime('Thursday, 18 August 1977', '%A, %d %B %Y')\n",
    "\n",
    "print(The_Moscow_Times)\n",
    "print(The_Guardian)\n",
    "print(Daily_News)"
   ]
  },
  {
   "cell_type": "code",
   "execution_count": 145,
   "metadata": {},
   "outputs": [
    {
     "name": "stdout",
     "output_type": "stream",
     "text": [
      "2018-04-02 дата корректна\n",
      "2018-02-29 дата некорректна\n",
      "2018-19-02 дата некорректна\n"
     ]
    }
   ],
   "source": [
    "# Задание №2\n",
    "\n",
    "stream = ['2018-04-02', '2018-02-29', '2018-19-02']\n",
    "\n",
    "def check_stream(stream):\n",
    "    for line in stream:\n",
    "        try:\n",
    "            datetime.strptime(line, '%Y-%m-%d') \n",
    "            print(line, 'дата корректна')\n",
    "        except:\n",
    "            print(line, 'дата некорректна')\n",
    "\n",
    "    \n",
    "check_stream(stream)\n"
   ]
  },
  {
   "cell_type": "code",
   "execution_count": 60,
   "metadata": {},
   "outputs": [
    {
     "name": "stdout",
     "output_type": "stream",
     "text": [
      "Введите стартовую дату в формате YYYY-MM-DD:2021-03-08\n",
      "Введите конечную дату в формате YYYY-MM-DD:2021-03-15\n",
      "2021-03-08 00:00:00\n",
      "2021-03-09 00:00:00\n",
      "2021-03-10 00:00:00\n",
      "2021-03-11 00:00:00\n",
      "2021-03-12 00:00:00\n",
      "2021-03-13 00:00:00\n",
      "2021-03-14 00:00:00\n",
      "2021-03-15 00:00:00\n"
     ]
    }
   ],
   "source": [
    "# Задание №3\n",
    "\n",
    "def date_range():\n",
    "    \n",
    "    start_date = input('Введите стартовую дату в формате YYYY-MM-DD:')\n",
    "    end_date = input('Введите конечную дату в формате YYYY-MM-DD:')\n",
    "    \n",
    "    if start_date >= end_date:\n",
    "        return []\n",
    "    \n",
    "    try:\n",
    "        start_date = datetime.strptime(start_date, '%Y-%m-%d')\n",
    "        end_date = datetime.strptime(end_date, '%Y-%m-%d')\n",
    "        start_date >= end_date\n",
    "    \n",
    "    except:\n",
    "        return []\n",
    "        \n",
    "    while start_date <= end_date:\n",
    "        print(start_date)\n",
    "        \n",
    "        start_date += timedelta(days=1)\n",
    "          \n",
    "date_range()"
   ]
  }
 ],
 "metadata": {
  "kernelspec": {
   "display_name": "Python 3",
   "language": "python",
   "name": "python3"
  },
  "language_info": {
   "codemirror_mode": {
    "name": "ipython",
    "version": 3
   },
   "file_extension": ".py",
   "mimetype": "text/x-python",
   "name": "python",
   "nbconvert_exporter": "python",
   "pygments_lexer": "ipython3",
   "version": "3.8.5"
  }
 },
 "nbformat": 4,
 "nbformat_minor": 4
}
