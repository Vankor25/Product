{
 "cells": [
  {
   "cell_type": "code",
   "execution_count": 1,
   "metadata": {},
   "outputs": [],
   "source": [
    "import numpy as np"
   ]
  },
  {
   "cell_type": "code",
   "execution_count": 22,
   "metadata": {},
   "outputs": [
    {
     "name": "stdout",
     "output_type": "stream",
     "text": [
      "-147959 0.22469\n"
     ]
    }
   ],
   "source": [
    "import numpy as np\n",
    "\n",
    "trials = 1000000    # Количество попыток\n",
    "value = 0    # Сумма проигрыша\n",
    "success = 0  # Вероятность выигрыша\n",
    "\n",
    "for i in range(trials):\n",
    "    random_score = np.random.randint(0, 1000)    # Случайное выпадение числа от 0 до 999\n",
    "    value += -1 \n",
    "    if random_score == 777:\n",
    "        value += 200\n",
    "        success += 1\n",
    "    if random_score == 999:\n",
    "        value += 100\n",
    "        success += 1\n",
    "    if random_score == 555:\n",
    "        value += 50\n",
    "        success += 1\n",
    "    if random_score == 333:\n",
    "        value += 15\n",
    "        success += 1\n",
    "    if random_score == 111:\n",
    "        value += 10\n",
    "        success += 1\n",
    "    if random_score % 100 == 77:\n",
    "        value += 5\n",
    "        success += 1\n",
    "    if random_score % 10 == 7:\n",
    "        value += 3\n",
    "        success += 1\n",
    "    if random_score % 100 == 0:\n",
    "        value += 2\n",
    "        success += 1\n",
    "    if random_score % 10 == 0:\n",
    "        value += 1\n",
    "        success += 1\n",
    "        \n",
    "monte_carlo = success / trials\n",
    "        \n",
    "print(value, monte_carlo) # Игра не выгодна"
   ]
  }
 ],
 "metadata": {
  "kernelspec": {
   "display_name": "Python 3",
   "language": "python",
   "name": "python3"
  },
  "language_info": {
   "codemirror_mode": {
    "name": "ipython",
    "version": 3
   },
   "file_extension": ".py",
   "mimetype": "text/x-python",
   "name": "python",
   "nbconvert_exporter": "python",
   "pygments_lexer": "ipython3",
   "version": "3.8.5"
  }
 },
 "nbformat": 4,
 "nbformat_minor": 4
}
