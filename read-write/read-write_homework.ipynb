{
 "cells": [
  {
   "cell_type": "code",
   "execution_count": 1,
   "metadata": {},
   "outputs": [],
   "source": [
    "import json"
   ]
  },
  {
   "cell_type": "code",
   "execution_count": 37,
   "metadata": {},
   "outputs": [],
   "source": [
    "with open('C:\\\\Users\\\\korchagin.ivan\\\\OneDrive - ООО М5\\\\Рабочий стол\\\\purchase_log.txt', 'r', encoding='utf-8') as f:\n",
    "    \n",
    "    next(f)\n",
    "    purchases = {}\n",
    "    \n",
    "    for line in f:\n",
    "        line = line.strip()\n",
    "        new_dict = json.loads(line) \n",
    "        \n",
    "        key = new_dict['user_id']\n",
    "        value = new_dict['category']\n",
    "        purchases[key] = value\n",
    "        "
   ]
  },
  {
   "cell_type": "code",
   "execution_count": 88,
   "metadata": {},
   "outputs": [],
   "source": [
    "with open('C:\\\\Users\\\\korchagin.ivan\\\\OneDrive - ООО М5\\\\Рабочий стол\\\\visit_log.csv', 'r', encoding='utf-8') as f:\n",
    "    with open ('C:\\\\Users\\\\korchagin.ivan\\\\OneDrive - ООО М5\\\\Рабочий стол\\\\funnel.csv', 'w') as f_2:\n",
    "        \n",
    "        next(f)\n",
    "        i = 0\n",
    "        \n",
    "        for line in f:\n",
    "            visits = line.strip().split(',')\n",
    "            if visits[0] not in purchases:\n",
    "                continue\n",
    "            elif visits[0] in purchases:\n",
    "                f_2.write(str(visits) + ' ' + (purchases.get(visits[0])) + ' ' + '\\n')\n",
    "            \n",
    "                \n",
    "        "
   ]
  }
 ],
 "metadata": {
  "kernelspec": {
   "display_name": "Python 3",
   "language": "python",
   "name": "python3"
  },
  "language_info": {
   "codemirror_mode": {
    "name": "ipython",
    "version": 3
   },
   "file_extension": ".py",
   "mimetype": "text/x-python",
   "name": "python",
   "nbconvert_exporter": "python",
   "pygments_lexer": "ipython3",
   "version": "3.8.5"
  }
 },
 "nbformat": 4,
 "nbformat_minor": 4
}
