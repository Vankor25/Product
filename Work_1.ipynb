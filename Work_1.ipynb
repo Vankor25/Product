{
 "cells": [
  {
   "cell_type": "code",
   "execution_count": null,
   "metadata": {
    "scrolled": true
   },
   "outputs": [],
   "source": [
    "# Задание 1 вариант №1\n",
    "phrase_1 = 'Скрутить шею питону'\n",
    "phrase_2 = 'Потрогать за хвость кобру'\n",
    "\n",
    "if len(phrase_1) < len(phrase_2):\n",
    "    print('Фраза 1 меньше фразы 2')\n",
    "    \n",
    "elif len(phrase_1) > len(phrase_2):\n",
    "    print(\"Фраза 1 больще фразы 2\")\n",
    "    \n",
    "print ('Конец змеям!')  "
   ]
  },
  {
   "cell_type": "code",
   "execution_count": 133,
   "metadata": {},
   "outputs": [
    {
     "name": "stdout",
     "output_type": "stream",
     "text": [
      "Введите фразу 1Скрутить шею питону\n",
      "Введите фразу 2скрутить шею питону\n",
      "Фраза 1 равна фразе 2\n"
     ]
    }
   ],
   "source": [
    "# Задание 1 вариант №2\n",
    "phrase_1 = input('Введите фразу 1')\n",
    "phrase_1 = input('Введите фразу 2')\n",
    "\n",
    "if len(phrase_1) > len(phrase_1):\n",
    "    print (\"Фраза больще фразы 2\")\n",
    "elif len(phrase_1) < len(phrase_1):\n",
    "    print(\"Фраза 1 меньше фразы 2\")\n",
    "elif len(phrase_1) == len(phrase_1):\n",
    "    print(\"Фраза 1 равна фразе 2\")    "
   ]
  },
  {
   "cell_type": "code",
   "execution_count": 109,
   "metadata": {},
   "outputs": [
    {
     "name": "stdout",
     "output_type": "stream",
     "text": [
      "Введите год2020\n",
      "Високосный\n"
     ]
    }
   ],
   "source": [
    "# Задание 2\n",
    "year = int(input('Введите год'))\n",
    "if year % 4 == 0:\n",
    "    print('Високосный')\n",
    "elif year % 100 == 0:\n",
    "    print('Обычный')\n",
    "elif year % 400 == 0:\n",
    "    print('Обычный')\n",
    "else:\n",
    "    print('Обычный')"
   ]
  },
  {
   "cell_type": "code",
   "execution_count": 134,
   "metadata": {},
   "outputs": [
    {
     "name": "stdout",
     "output_type": "stream",
     "text": [
      "Введите день11\n",
      "Введите месяц в именительном падеже с заглавной буквыЯнварь\n",
      "Козерог\n"
     ]
    }
   ],
   "source": [
    "# Задание 3\n",
    "date = int(input('Введите день'))\n",
    "month = input('Введите месяц в именительном падеже с заглавной буквы')\n",
    "if month == \"Март\":\n",
    "    if date >= 21:\n",
    "        print('Овен')\n",
    "elif month == \"Апрель\":\n",
    "    if date <= 20:\n",
    "        print('Овен')\n",
    "elif month == \"Апрель\":\n",
    "    if date >= 21:\n",
    "        print('Телец')\n",
    "elif month == \"Май\":\n",
    "    if date <= 21:\n",
    "        print('Телец')\n",
    "elif month == \"Май\":\n",
    "    if date >= 22:\n",
    "        print('Близнецы')\n",
    "elif month == \"Июнь\":\n",
    "    if date <= 21:\n",
    "        print('Близнецы')\n",
    "elif month == \"Июнь\":\n",
    "    if date >= 22:\n",
    "        print('Рак')\n",
    "elif month == \"Июль\":\n",
    "    if date <= 22:\n",
    "        print('Рак')\n",
    "elif month == \"Июль\":\n",
    "    if date >= 23:\n",
    "        print('Лев')\n",
    "elif month == \"Август\":\n",
    "    if date <= 22:\n",
    "        print('Лев')\n",
    "elif month == \"Август\":\n",
    "    if date >= 24:\n",
    "        print('Дева')\n",
    "elif month == \"Сентябрь\":\n",
    "    if date <= 22:\n",
    "        print('Дева')\n",
    "elif month == \"Сентябрь\":\n",
    "    if date >= 23:\n",
    "        print('Весы')\n",
    "elif month == \"Октябрь\":\n",
    "    if date <= 22:\n",
    "        print('Весы')        \n",
    "elif month == \"Октябрь\":\n",
    "    if date >= 23:\n",
    "        print('Скорпион')\n",
    "elif month == \"Ноябрь\":\n",
    "    if date <= 22:\n",
    "        print('Скорпион')\n",
    "elif month == \"Ноябрь\":\n",
    "    if date >= 22:\n",
    "        print('Стрелец')\n",
    "elif month == \"Декабрь\":\n",
    "    if date <= 21:\n",
    "        print('Стрелец')\n",
    "elif month == \"Декабрь\":\n",
    "    if date >= 22:\n",
    "        print('Козерог')\n",
    "elif month == \"Январь\":\n",
    "    if date <= 20:\n",
    "        print('Козерог') \n",
    "elif month == \"Январь\":\n",
    "    if date >= 21:\n",
    "        print('Водолей')\n",
    "elif month == \"Февраль\":\n",
    "    if date <= 20:\n",
    "        print('Водолей')\n",
    "elif month == \"Февраль\":\n",
    "    if date >= 20:\n",
    "        print('Рыба')\n",
    "elif month == \"Март\":\n",
    "    if date <= 20:\n",
    "        print('Рыба')        "
   ]
  },
  {
   "cell_type": "code",
   "execution_count": 127,
   "metadata": {},
   "outputs": [
    {
     "name": "stdout",
     "output_type": "stream",
     "text": [
      "Введите ширину20\n",
      "Введите длину20\n",
      "Введите высоту20\n",
      "Коробка №2\n"
     ]
    }
   ],
   "source": [
    "# Задание 4\n",
    "width = int(input('Введите ширину'))\n",
    "length = int(input('Введите длину'))\n",
    "height = int(input('Введите высоту'))\n",
    "\n",
    "if width and length and height < 15:\n",
    "    print('Коробка №1')\n",
    "elif width or length or height > 15 < 50:\n",
    "    print('Коробка №2')\n",
    "    if length > 200:\n",
    "        print('Упаковка для лыж')  \n",
    "else:\n",
    "    print (\"Стандартная коробка №3\")"
   ]
  }
 ],
 "metadata": {
  "kernelspec": {
   "display_name": "Python 3",
   "language": "python",
   "name": "python3"
  },
  "language_info": {
   "codemirror_mode": {
    "name": "ipython",
    "version": 3
   },
   "file_extension": ".py",
   "mimetype": "text/x-python",
   "name": "python",
   "nbconvert_exporter": "python",
   "pygments_lexer": "ipython3",
   "version": "3.8.5"
  },
  "widgets": {
   "application/vnd.jupyter.widget-state+json": {
    "state": {},
    "version_major": 2,
    "version_minor": 0
   }
  }
 },
 "nbformat": 4,
 "nbformat_minor": 4
}
